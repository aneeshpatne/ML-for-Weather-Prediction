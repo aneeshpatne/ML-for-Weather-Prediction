{
  "cells": [
    {
      "cell_type": "markdown",
      "metadata": {},
      "source": [
        "Random Forest and SVM Prediction"
      ]
    },
    {
      "cell_type": "code",
      "execution_count": 2,
      "metadata": {
        "colab": {
          "base_uri": "https://localhost:8080/",
          "height": 206
        },
        "id": "lJ_dWDudQ1k4",
        "outputId": "cd134719-3f6f-4015-a826-4ca3cf8306f4"
      },
      "outputs": [
        {
          "data": {
            "text/html": [
              "<div>\n",
              "<style scoped>\n",
              "    .dataframe tbody tr th:only-of-type {\n",
              "        vertical-align: middle;\n",
              "    }\n",
              "\n",
              "    .dataframe tbody tr th {\n",
              "        vertical-align: top;\n",
              "    }\n",
              "\n",
              "    .dataframe thead th {\n",
              "        text-align: right;\n",
              "    }\n",
              "</style>\n",
              "<table border=\"1\" class=\"dataframe\">\n",
              "  <thead>\n",
              "    <tr style=\"text-align: right;\">\n",
              "      <th></th>\n",
              "      <th>id</th>\n",
              "      <th>date</th>\n",
              "      <th>time</th>\n",
              "      <th>temp</th>\n",
              "      <th>humidity</th>\n",
              "      <th>pressure</th>\n",
              "      <th>light_intensity</th>\n",
              "    </tr>\n",
              "  </thead>\n",
              "  <tbody>\n",
              "    <tr>\n",
              "      <th>0</th>\n",
              "      <td>1</td>\n",
              "      <td>06/08/22</td>\n",
              "      <td>17:06:11</td>\n",
              "      <td>30.6</td>\n",
              "      <td>71</td>\n",
              "      <td>698.29</td>\n",
              "      <td>35.83</td>\n",
              "    </tr>\n",
              "    <tr>\n",
              "      <th>1</th>\n",
              "      <td>2</td>\n",
              "      <td>06/08/22</td>\n",
              "      <td>17:07:16</td>\n",
              "      <td>30.6</td>\n",
              "      <td>71</td>\n",
              "      <td>698.11</td>\n",
              "      <td>35.00</td>\n",
              "    </tr>\n",
              "    <tr>\n",
              "      <th>2</th>\n",
              "      <td>3</td>\n",
              "      <td>06/08/22</td>\n",
              "      <td>17:08:21</td>\n",
              "      <td>30.2</td>\n",
              "      <td>72</td>\n",
              "      <td>697.85</td>\n",
              "      <td>35.00</td>\n",
              "    </tr>\n",
              "    <tr>\n",
              "      <th>3</th>\n",
              "      <td>4</td>\n",
              "      <td>06/08/22</td>\n",
              "      <td>17:09:02</td>\n",
              "      <td>29.6</td>\n",
              "      <td>72</td>\n",
              "      <td>697.50</td>\n",
              "      <td>35.00</td>\n",
              "    </tr>\n",
              "    <tr>\n",
              "      <th>4</th>\n",
              "      <td>5</td>\n",
              "      <td>06/08/22</td>\n",
              "      <td>17:10:06</td>\n",
              "      <td>30.0</td>\n",
              "      <td>72</td>\n",
              "      <td>697.50</td>\n",
              "      <td>35.00</td>\n",
              "    </tr>\n",
              "  </tbody>\n",
              "</table>\n",
              "</div>"
            ],
            "text/plain": [
              "   id      date      time  temp  humidity  pressure  light_intensity\n",
              "0   1  06/08/22  17:06:11  30.6        71    698.29            35.83\n",
              "1   2  06/08/22  17:07:16  30.6        71    698.11            35.00\n",
              "2   3  06/08/22  17:08:21  30.2        72    697.85            35.00\n",
              "3   4  06/08/22  17:09:02  29.6        72    697.50            35.00\n",
              "4   5  06/08/22  17:10:06  30.0        72    697.50            35.00"
            ]
          },
          "execution_count": 2,
          "metadata": {},
          "output_type": "execute_result"
        }
      ],
      "source": [
        "import numpy as np \n",
        "import pandas as pd\n",
        "df =pd.read_csv(\"6_aug-Sheet1.csv\")\n",
        "from sklearn import svm\n",
        "import pickle\n",
        "df.head()"
      ]
    },
    {
      "cell_type": "code",
      "execution_count": 3,
      "metadata": {
        "colab": {
          "base_uri": "https://localhost:8080/"
        },
        "id": "5Rdp1yBJT_dj",
        "outputId": "b95cda3b-cedc-4477-a3a4-b47ccc34226d"
      },
      "outputs": [
        {
          "data": {
            "text/plain": [
              "id                 False\n",
              "date               False\n",
              "time               False\n",
              "temp               False\n",
              "humidity           False\n",
              "pressure           False\n",
              "light_intensity    False\n",
              "dtype: bool"
            ]
          },
          "execution_count": 3,
          "metadata": {},
          "output_type": "execute_result"
        }
      ],
      "source": [
        "df.columns\n",
        "df.shape\n",
        "df.isna().any()"
      ]
    },
    {
      "cell_type": "code",
      "execution_count": 4,
      "metadata": {
        "colab": {
          "base_uri": "https://localhost:8080/",
          "height": 265
        },
        "id": "qQc9E9SkTVgB",
        "outputId": "f93694be-5449-4b78-b80e-5c643795cabe"
      },
      "outputs": [
        {
          "data": {
            "image/png": "[encoded data removed]",
            "text/plain": [
              "<Figure size 432x288 with 1 Axes>"
            ]
          },
          "metadata": {
            "needs_background": "light"
          },
          "output_type": "display_data"
        }
      ],
      "source": [
        "from pandas import Series\n",
        "from matplotlib import pyplot\n",
        "series = pd.read_csv('6_aug-Sheet1.csv', header=0)\n",
        "series.plot(style='k.',legend = True,grid = True)\n",
        "pyplot.show()"
      ]
    },
    {
      "cell_type": "code",
      "execution_count": 5,
      "metadata": {
        "id": "Poy2i4kETgei"
      },
      "outputs": [],
      "source": [
        "df['date'] = pd.to_datetime(df['date']).dt.date\n",
        "#df['time'] = pd.to_datetime(df['time']).dt.time\n",
        "#df['time1'] = pd.to_datetime(df['time'],format= '%H:%M:%S' ).dt.time\n"
      ]
    },
    {
      "cell_type": "code",
      "execution_count": 6,
      "metadata": {
        "id": "InQbWDGeTjqY"
      },
      "outputs": [],
      "source": [
        "df['year'] = pd.to_datetime(df['date']).dt.year\n",
        "df['month'] = pd.to_datetime(df['date']).dt.month\n",
        "df['day'] = pd.to_datetime(df['date']).dt.day\n",
        "df['H'] = pd.to_datetime(df['time']).dt.hour\n",
        "df['M'] = pd.to_datetime(df['time']).dt.minute\n",
        "df['S'] = pd.to_datetime(df['time']).dt.second\n",
        "df.drop('date',axis = 1, inplace = True)\n",
        "#df.drop('time',axis = 1, inplace = True)\n",
        "#Changing column positions\n",
        "df = df[['year','month','day','H','M','S','temp','humidity','pressure','light_intensity']]\n",
        "#df.replace([np.NaN, np.inf,-np.inf], 0, inplace=True)"
      ]
    },
    {
      "cell_type": "code",
      "execution_count": 7,
      "metadata": {
        "id": "VR7LmagRUHzf"
      },
      "outputs": [],
      "source": [
        "target = np.array(df[['temp','humidity','pressure','light_intensity']])\n",
        "df.drop('temp', axis = 1, inplace = True)\n",
        "df.drop('humidity', axis = 1, inplace = True)\n",
        "df.drop('pressure', axis = 1, inplace = True)\n",
        "df.drop('light_intensity', axis = 1, inplace = True)"
      ]
    },
    {
      "cell_type": "code",
      "execution_count": 8,
      "metadata": {
        "colab": {
          "base_uri": "https://localhost:8080/"
        },
        "id": "GBpFpmDNWA5b",
        "outputId": "10264e44-9c57-4798-9443-b399c05f2dbd"
      },
      "outputs": [
        {
          "name": "stdout",
          "output_type": "stream",
          "text": [
            "[[2022    6    8   17    6   11]\n",
            " [2022    6    8   17    7   16]\n",
            " [2022    6    8   17    8   21]\n",
            " ...\n",
            " [2022    9   30   12    0    5]\n",
            " [2022    9   30   12    1   13]\n",
            " [2022    9   30   12    2   23]]\n"
          ]
        }
      ],
      "source": [
        "feature_list = list(target)\n",
        "features = np.array(df)\n",
        "#print(df)\n",
        "print(features)"
      ]
    },
    {
      "cell_type": "code",
      "execution_count": 9,
      "metadata": {
        "id": "aQ3kuJSfXBH5"
      },
      "outputs": [],
      "source": [
        "from sklearn.model_selection import train_test_split\n",
        "train_features, test_features, train_labels, test_labels = train_test_split(features, target, test_size = 0.4,random_state = 27)"
      ]
    },
    {
      "cell_type": "code",
      "execution_count": 10,
      "metadata": {
        "colab": {
          "base_uri": "https://localhost:8080/"
        },
        "id": "NoVpymUAXG-Q",
        "outputId": "b96341e8-e7f5-4db2-a88c-a5ae8074335d"
      },
      "outputs": [
        {
          "name": "stdout",
          "output_type": "stream",
          "text": [
            "Training Features Shape: (35032, 6)\n",
            "Training Labels Shape: (35032, 4)\n",
            "Testing Features Shape: (23355, 6)\n",
            "Testing Labels Shape: (23355, 4)\n"
          ]
        }
      ],
      "source": [
        "print('Training Features Shape:', train_features.shape)\n",
        "print('Training Labels Shape:', train_labels.shape)\n",
        "print('Testing Features Shape:', test_features.shape)\n",
        "print('Testing Labels Shape:', test_labels.shape)"
      ]
    },
    {
      "cell_type": "code",
      "execution_count": 11,
      "metadata": {
        "id": "paJP8JF2XrQt"
      },
      "outputs": [
        {
          "data": {
            "text/html": [
              "<style>#sk-container-id-1 {color: black;background-color: white;}#sk-container-id-1 pre{padding: 0;}#sk-container-id-1 div.sk-toggleable {background-color: white;}#sk-container-id-1 label.sk-toggleable__label {cursor: pointer;display: block;width: 100%;margin-bottom: 0;padding: 0.3em;box-sizing: border-box;text-align: center;}#sk-container-id-1 label.sk-toggleable__label-arrow:before {content: \"▸\";float: left;margin-right: 0.25em;color: #696969;}#sk-container-id-1 label.sk-toggleable__label-arrow:hover:before {color: black;}#sk-container-id-1 div.sk-estimator:hover label.sk-toggleable__label-arrow:before {color: black;}#sk-container-id-1 div.sk-toggleable__content {max-height: 0;max-width: 0;overflow: hidden;text-align: left;background-color: #f0f8ff;}#sk-container-id-1 div.sk-toggleable__content pre {margin: 0.2em;color: black;border-radius: 0.25em;background-color: #f0f8ff;}#sk-container-id-1 input.sk-toggleable__control:checked~div.sk-toggleable__content {max-height: 200px;max-width: 100%;overflow: auto;}#sk-container-id-1 input.sk-toggleable__control:checked~label.sk-toggleable__label-arrow:before {content: \"▾\";}#sk-container-id-1 div.sk-estimator input.sk-toggleable__control:checked~label.sk-toggleable__label {background-color: #d4ebff;}#sk-container-id-1 div.sk-label input.sk-toggleable__control:checked~label.sk-toggleable__label {background-color: #d4ebff;}#sk-container-id-1 input.sk-hidden--visually {border: 0;clip: rect(1px 1px 1px 1px);clip: rect(1px, 1px, 1px, 1px);height: 1px;margin: -1px;overflow: hidden;padding: 0;position: absolute;width: 1px;}#sk-container-id-1 div.sk-estimator {font-family: monospace;background-color: #f0f8ff;border: 1px dotted black;border-radius: 0.25em;box-sizing: border-box;margin-bottom: 0.5em;}#sk-container-id-1 div.sk-estimator:hover {background-color: #d4ebff;}#sk-container-id-1 div.sk-parallel-item::after {content: \"\";width: 100%;border-bottom: 1px solid gray;flex-grow: 1;}#sk-container-id-1 div.sk-label:hover label.sk-toggleable__label {background-color: #d4ebff;}#sk-container-id-1 div.sk-serial::before {content: \"\";position: absolute;border-left: 1px solid gray;box-sizing: border-box;top: 0;bottom: 0;left: 50%;z-index: 0;}#sk-container-id-1 div.sk-serial {display: flex;flex-direction: column;align-items: center;background-color: white;padding-right: 0.2em;padding-left: 0.2em;position: relative;}#sk-container-id-1 div.sk-item {position: relative;z-index: 1;}#sk-container-id-1 div.sk-parallel {display: flex;align-items: stretch;justify-content: center;background-color: white;position: relative;}#sk-container-id-1 div.sk-item::before, #sk-container-id-1 div.sk-parallel-item::before {content: \"\";position: absolute;border-left: 1px solid gray;box-sizing: border-box;top: 0;bottom: 0;left: 50%;z-index: -1;}#sk-container-id-1 div.sk-parallel-item {display: flex;flex-direction: column;z-index: 1;position: relative;background-color: white;}#sk-container-id-1 div.sk-parallel-item:first-child::after {align-self: flex-end;width: 50%;}#sk-container-id-1 div.sk-parallel-item:last-child::after {align-self: flex-start;width: 50%;}#sk-container-id-1 div.sk-parallel-item:only-child::after {width: 0;}#sk-container-id-1 div.sk-dashed-wrapped {border: 1px dashed gray;margin: 0 0.4em 0.5em 0.4em;box-sizing: border-box;padding-bottom: 0.4em;background-color: white;}#sk-container-id-1 div.sk-label label {font-family: monospace;font-weight: bold;display: inline-block;line-height: 1.2em;}#sk-container-id-1 div.sk-label-container {text-align: center;}#sk-container-id-1 div.sk-container {/* jupyter's `normalize.less` sets `[hidden] { display: none; }` but bootstrap.min.css set `[hidden] { display: none !important; }` so we also need the `!important` here to be able to override the default hidden behavior on the sphinx rendered scikit-learn.org. See: https://github.com/scikit-learn/scikit-learn/issues/21755 */display: inline-block !important;position: relative;}#sk-container-id-1 div.sk-text-repr-fallback {display: none;}</style><div id=\"sk-container-id-1\" class=\"sk-top-container\"><div class=\"sk-text-repr-fallback\"><pre>RandomForestRegressor(n_estimators=2000)</pre><b>In a Jupyter environment, please rerun this cell to show the HTML representation or trust the notebook. <br />On GitHub, the HTML representation is unable to render, please try loading this page with nbviewer.org.</b></div><div class=\"sk-container\" hidden><div class=\"sk-item\"><div class=\"sk-estimator sk-toggleable\"><input class=\"sk-toggleable__control sk-hidden--visually\" id=\"sk-estimator-id-1\" type=\"checkbox\" checked><label for=\"sk-estimator-id-1\" class=\"sk-toggleable__label sk-toggleable__label-arrow\">RandomForestRegressor</label><div class=\"sk-toggleable__content\"><pre>RandomForestRegressor(n_estimators=2000)</pre></div></div></div></div></div>"
            ],
            "text/plain": [
              "RandomForestRegressor(n_estimators=2000)"
            ]
          },
          "execution_count": 11,
          "metadata": {},
          "output_type": "execute_result"
        }
      ],
      "source": [
        "from sklearn.ensemble import RandomForestRegressor\n",
        "rf = RandomForestRegressor(n_estimators = 2000)\n",
        "# Train the model on training data\n",
        "rf.fit(train_features, train_labels)\n"
      ]
    },
    {
      "cell_type": "code",
      "execution_count": 26,
      "metadata": {},
      "outputs": [
        {
          "data": {
            "text/plain": [
              "(35032, 4)"
            ]
          },
          "execution_count": 26,
          "metadata": {},
          "output_type": "execute_result"
        }
      ],
      "source": [
        "train_labels.shape"
      ]
    },
    {
      "cell_type": "code",
      "execution_count": 43,
      "metadata": {},
      "outputs": [
        {
          "name": "stdout",
          "output_type": "stream",
          "text": [
            "(140128,)\n",
            "(35032, 4)\n",
            "(210192,)\n",
            "(35032, 6)\n"
          ]
        }
      ],
      "source": [
        "train_label_shape = train_labels.reshape(-1)\n",
        "print(train_label_shape.shape)\n",
        "print(train_labels.shape)\n",
        "train_features_shape = train_features.reshape(-1)\n",
        "print(train_features_shape.shape)\n",
        "print(train_features.shape)\n",
        "\n",
        "\n"
      ]
    },
    {
      "cell_type": "code",
      "execution_count": 12,
      "metadata": {},
      "outputs": [],
      "source": [
        "import pickle"
      ]
    },
    {
      "cell_type": "code",
      "execution_count": 13,
      "metadata": {},
      "outputs": [],
      "source": [
        "with open(\"classifier/trained__model.clf\",\"wb\") as f:\n",
        "    pickle.dump(rf, f)"
      ]
    },
    {
      "cell_type": "code",
      "execution_count": 14,
      "metadata": {},
      "outputs": [],
      "source": [
        "import pickle\n",
        "with open(\"classifier/trained__model.clf\", 'rb') as f:\n",
        "    clf = pickle.load(f)"
      ]
    },
    {
      "cell_type": "code",
      "execution_count": 15,
      "metadata": {
        "colab": {
          "base_uri": "https://localhost:8080/"
        },
        "id": "K_uy-1XnYCzN",
        "outputId": "30da36e3-d869-4902-ebad-e8db40335ebb"
      },
      "outputs": [
        {
          "name": "stdout",
          "output_type": "stream",
          "text": [
            "Mean Absolute Error: 0.88\n"
          ]
        }
      ],
      "source": [
        "predictions = clf.predict(test_features)\n",
        "# Calculate the absolute errors\n",
        "errors = abs(predictions - test_labels)\n",
        "# Print out the mean absolute error (mae)\n",
        "print('Mean Absolute Error:', round(np.mean(errors), 2))"
      ]
    },
    {
      "cell_type": "code",
      "execution_count": 16,
      "metadata": {
        "id": "4ErzJLzsYbOU"
      },
      "outputs": [
        {
          "data": {
            "text/html": [
              "<div>\n",
              "<style scoped>\n",
              "    .dataframe tbody tr th:only-of-type {\n",
              "        vertical-align: middle;\n",
              "    }\n",
              "\n",
              "    .dataframe tbody tr th {\n",
              "        vertical-align: top;\n",
              "    }\n",
              "\n",
              "    .dataframe thead th {\n",
              "        text-align: right;\n",
              "    }\n",
              "</style>\n",
              "<table border=\"1\" class=\"dataframe\">\n",
              "  <thead>\n",
              "    <tr style=\"text-align: right;\">\n",
              "      <th></th>\n",
              "      <th>year</th>\n",
              "      <th>month</th>\n",
              "      <th>day</th>\n",
              "      <th>H</th>\n",
              "      <th>M</th>\n",
              "      <th>S</th>\n",
              "      <th>temp_P</th>\n",
              "      <th>humidity_P</th>\n",
              "      <th>pressure_P</th>\n",
              "      <th>light_intensity_P</th>\n",
              "    </tr>\n",
              "  </thead>\n",
              "  <tbody>\n",
              "    <tr>\n",
              "      <th>0</th>\n",
              "      <td>2022</td>\n",
              "      <td>6</td>\n",
              "      <td>8</td>\n",
              "      <td>17</td>\n",
              "      <td>6</td>\n",
              "      <td>11</td>\n",
              "      <td>30.46690</td>\n",
              "      <td>71.2195</td>\n",
              "      <td>698.086250</td>\n",
              "      <td>35.711565</td>\n",
              "    </tr>\n",
              "    <tr>\n",
              "      <th>1</th>\n",
              "      <td>2022</td>\n",
              "      <td>6</td>\n",
              "      <td>8</td>\n",
              "      <td>17</td>\n",
              "      <td>7</td>\n",
              "      <td>16</td>\n",
              "      <td>30.51130</td>\n",
              "      <td>71.2015</td>\n",
              "      <td>698.042300</td>\n",
              "      <td>35.403185</td>\n",
              "    </tr>\n",
              "    <tr>\n",
              "      <th>2</th>\n",
              "      <td>2022</td>\n",
              "      <td>6</td>\n",
              "      <td>8</td>\n",
              "      <td>17</td>\n",
              "      <td>8</td>\n",
              "      <td>21</td>\n",
              "      <td>30.25185</td>\n",
              "      <td>71.8635</td>\n",
              "      <td>697.824300</td>\n",
              "      <td>35.504210</td>\n",
              "    </tr>\n",
              "    <tr>\n",
              "      <th>3</th>\n",
              "      <td>2022</td>\n",
              "      <td>6</td>\n",
              "      <td>8</td>\n",
              "      <td>17</td>\n",
              "      <td>9</td>\n",
              "      <td>2</td>\n",
              "      <td>29.83675</td>\n",
              "      <td>71.9405</td>\n",
              "      <td>697.530155</td>\n",
              "      <td>35.609595</td>\n",
              "    </tr>\n",
              "    <tr>\n",
              "      <th>4</th>\n",
              "      <td>2022</td>\n",
              "      <td>6</td>\n",
              "      <td>8</td>\n",
              "      <td>17</td>\n",
              "      <td>10</td>\n",
              "      <td>6</td>\n",
              "      <td>29.77590</td>\n",
              "      <td>72.0225</td>\n",
              "      <td>697.428790</td>\n",
              "      <td>35.840585</td>\n",
              "    </tr>\n",
              "  </tbody>\n",
              "</table>\n",
              "</div>"
            ],
            "text/plain": [
              "   year  month  day   H   M   S    temp_P  humidity_P  pressure_P  \\\n",
              "0  2022      6    8  17   6  11  30.46690     71.2195  698.086250   \n",
              "1  2022      6    8  17   7  16  30.51130     71.2015  698.042300   \n",
              "2  2022      6    8  17   8  21  30.25185     71.8635  697.824300   \n",
              "3  2022      6    8  17   9   2  29.83675     71.9405  697.530155   \n",
              "4  2022      6    8  17  10   6  29.77590     72.0225  697.428790   \n",
              "\n",
              "   light_intensity_P  \n",
              "0          35.711565  \n",
              "1          35.403185  \n",
              "2          35.504210  \n",
              "3          35.609595  \n",
              "4          35.840585  "
            ]
          },
          "execution_count": 16,
          "metadata": {},
          "output_type": "execute_result"
        }
      ],
      "source": [
        "df[['temp_P','humidity_P','pressure_P','light_intensity_P']] = clf.predict(features)\n",
        "df.head()"
      ]
    },
    {
      "cell_type": "code",
      "execution_count": 17,
      "metadata": {
        "colab": {
          "base_uri": "https://localhost:8080/"
        },
        "id": "NQi5Uc5tZNHq",
        "outputId": "83fdf50c-0a3a-4e0e-aa02-8fb8a6be92ad"
      },
      "outputs": [
        {
          "name": "stdout",
          "output_type": "stream",
          "text": [
            "THE TOTAL ACCURACY IS 91.8077897018772\n"
          ]
        }
      ],
      "source": [
        "from sklearn.metrics import r2_score\n",
        "accuracy = r2_score(predictions,test_labels)\n",
        "print('THE TOTAL ACCURACY IS',accuracy*100)"
      ]
    },
    {
      "cell_type": "code",
      "execution_count": null,
      "metadata": {
        "colab": {
          "base_uri": "https://localhost:8080/",
          "height": 427
        },
        "id": "joITJ4-iUx6c",
        "outputId": "4333b9f1-a06d-4333-8c6e-be5196e6845f"
      },
      "outputs": [
        {
          "data": {
            "text/html": [
              "\n",
              "  <div id=\"df-21509c7c-a94b-41a9-ba79-6f45fc680b5c\">\n",
              "    <div class=\"colab-df-container\">\n",
              "      <div>\n",
              "<style scoped>\n",
              "    .dataframe tbody tr th:only-of-type {\n",
              "        vertical-align: middle;\n",
              "    }\n",
              "\n",
              "    .dataframe tbody tr th {\n",
              "        vertical-align: top;\n",
              "    }\n",
              "\n",
              "    .dataframe thead th {\n",
              "        text-align: right;\n",
              "    }\n",
              "</style>\n",
              "<table border=\"1\" class=\"dataframe\">\n",
              "  <thead>\n",
              "    <tr style=\"text-align: right;\">\n",
              "      <th></th>\n",
              "      <th>year</th>\n",
              "      <th>month</th>\n",
              "      <th>day</th>\n",
              "      <th>H</th>\n",
              "      <th>M</th>\n",
              "      <th>S</th>\n",
              "      <th>temp_</th>\n",
              "      <th>humidity_</th>\n",
              "      <th>pressure_</th>\n",
              "      <th>light_intensity_</th>\n",
              "    </tr>\n",
              "  </thead>\n",
              "  <tbody>\n",
              "    <tr>\n",
              "      <th>year</th>\n",
              "      <td>NaN</td>\n",
              "      <td>NaN</td>\n",
              "      <td>NaN</td>\n",
              "      <td>NaN</td>\n",
              "      <td>NaN</td>\n",
              "      <td>NaN</td>\n",
              "      <td>NaN</td>\n",
              "      <td>NaN</td>\n",
              "      <td>NaN</td>\n",
              "      <td>NaN</td>\n",
              "    </tr>\n",
              "    <tr>\n",
              "      <th>month</th>\n",
              "      <td>NaN</td>\n",
              "      <td>1.000000</td>\n",
              "      <td>0.022367</td>\n",
              "      <td>-0.061252</td>\n",
              "      <td>-0.000759</td>\n",
              "      <td>0.001303</td>\n",
              "      <td>-0.120276</td>\n",
              "      <td>0.064735</td>\n",
              "      <td>-0.099088</td>\n",
              "      <td>-0.021158</td>\n",
              "    </tr>\n",
              "    <tr>\n",
              "      <th>day</th>\n",
              "      <td>NaN</td>\n",
              "      <td>0.022367</td>\n",
              "      <td>1.000000</td>\n",
              "      <td>-0.034758</td>\n",
              "      <td>-0.001883</td>\n",
              "      <td>0.001602</td>\n",
              "      <td>-0.135801</td>\n",
              "      <td>-0.049897</td>\n",
              "      <td>-0.147578</td>\n",
              "      <td>0.091786</td>\n",
              "    </tr>\n",
              "    <tr>\n",
              "      <th>H</th>\n",
              "      <td>NaN</td>\n",
              "      <td>-0.061252</td>\n",
              "      <td>-0.034758</td>\n",
              "      <td>1.000000</td>\n",
              "      <td>0.000691</td>\n",
              "      <td>-0.002589</td>\n",
              "      <td>0.514155</td>\n",
              "      <td>0.468638</td>\n",
              "      <td>0.510130</td>\n",
              "      <td>0.324879</td>\n",
              "    </tr>\n",
              "    <tr>\n",
              "      <th>M</th>\n",
              "      <td>NaN</td>\n",
              "      <td>-0.000759</td>\n",
              "      <td>-0.001883</td>\n",
              "      <td>0.000691</td>\n",
              "      <td>1.000000</td>\n",
              "      <td>0.002816</td>\n",
              "      <td>-0.002577</td>\n",
              "      <td>-0.000278</td>\n",
              "      <td>0.000636</td>\n",
              "      <td>0.003418</td>\n",
              "    </tr>\n",
              "    <tr>\n",
              "      <th>S</th>\n",
              "      <td>NaN</td>\n",
              "      <td>0.001303</td>\n",
              "      <td>0.001602</td>\n",
              "      <td>-0.002589</td>\n",
              "      <td>0.002816</td>\n",
              "      <td>1.000000</td>\n",
              "      <td>-0.002183</td>\n",
              "      <td>-0.002286</td>\n",
              "      <td>-0.001446</td>\n",
              "      <td>-0.003035</td>\n",
              "    </tr>\n",
              "    <tr>\n",
              "      <th>temp_</th>\n",
              "      <td>NaN</td>\n",
              "      <td>-0.120276</td>\n",
              "      <td>-0.135801</td>\n",
              "      <td>0.514155</td>\n",
              "      <td>-0.002577</td>\n",
              "      <td>-0.002183</td>\n",
              "      <td>1.000000</td>\n",
              "      <td>0.695662</td>\n",
              "      <td>0.895950</td>\n",
              "      <td>0.212490</td>\n",
              "    </tr>\n",
              "    <tr>\n",
              "      <th>humidity_</th>\n",
              "      <td>NaN</td>\n",
              "      <td>0.064735</td>\n",
              "      <td>-0.049897</td>\n",
              "      <td>0.468638</td>\n",
              "      <td>-0.000278</td>\n",
              "      <td>-0.002286</td>\n",
              "      <td>0.695662</td>\n",
              "      <td>1.000000</td>\n",
              "      <td>0.561180</td>\n",
              "      <td>0.419788</td>\n",
              "    </tr>\n",
              "    <tr>\n",
              "      <th>pressure_</th>\n",
              "      <td>NaN</td>\n",
              "      <td>-0.099088</td>\n",
              "      <td>-0.147578</td>\n",
              "      <td>0.510130</td>\n",
              "      <td>0.000636</td>\n",
              "      <td>-0.001446</td>\n",
              "      <td>0.895950</td>\n",
              "      <td>0.561180</td>\n",
              "      <td>1.000000</td>\n",
              "      <td>0.204789</td>\n",
              "    </tr>\n",
              "    <tr>\n",
              "      <th>light_intensity_</th>\n",
              "      <td>NaN</td>\n",
              "      <td>-0.021158</td>\n",
              "      <td>0.091786</td>\n",
              "      <td>0.324879</td>\n",
              "      <td>0.003418</td>\n",
              "      <td>-0.003035</td>\n",
              "      <td>0.212490</td>\n",
              "      <td>0.419788</td>\n",
              "      <td>0.204789</td>\n",
              "      <td>1.000000</td>\n",
              "    </tr>\n",
              "  </tbody>\n",
              "</table>\n",
              "</div>\n",
              "      <button class=\"colab-df-convert\" onclick=\"convertToInteractive('df-21509c7c-a94b-41a9-ba79-6f45fc680b5c')\"\n",
              "              title=\"Convert this dataframe to an interactive table.\"\n",
              "              style=\"display:none;\">\n",
              "        \n",
              "  <svg xmlns=\"http://www.w3.org/2000/svg\" height=\"24px\"viewBox=\"0 0 24 24\"\n",
              "       width=\"24px\">\n",
              "    <path d=\"M0 0h24v24H0V0z\" fill=\"none\"/>\n",
              "    <path d=\"M18.56 5.44l.94 2.06.94-2.06 2.06-.94-2.06-.94-.94-2.06-.94 2.06-2.06.94zm-11 1L8.5 8.5l.94-2.06 2.06-.94-2.06-.94L8.5 2.5l-.94 2.06-2.06.94zm10 10l.94 2.06.94-2.06 2.06-.94-2.06-.94-.94-2.06-.94 2.06-2.06.94z\"/><path d=\"M17.41 7.96l-1.37-1.37c-.4-.4-.92-.59-1.43-.59-.52 0-1.04.2-1.43.59L10.3 9.45l-7.72 7.72c-.78.78-.78 2.05 0 2.83L4 21.41c.39.39.9.59 1.41.59.51 0 1.02-.2 1.41-.59l7.78-7.78 2.81-2.81c.8-.78.8-2.07 0-2.86zM5.41 20L4 18.59l7.72-7.72 1.47 1.35L5.41 20z\"/>\n",
              "  </svg>\n",
              "      </button>\n",
              "      \n",
              "  <style>\n",
              "    .colab-df-container {\n",
              "      display:flex;\n",
              "      flex-wrap:wrap;\n",
              "      gap: 12px;\n",
              "    }\n",
              "\n",
              "    .colab-df-convert {\n",
              "      background-color: #E8F0FE;\n",
              "      border: none;\n",
              "      border-radius: 50%;\n",
              "      cursor: pointer;\n",
              "      display: none;\n",
              "      fill: #1967D2;\n",
              "      height: 32px;\n",
              "      padding: 0 0 0 0;\n",
              "      width: 32px;\n",
              "    }\n",
              "\n",
              "    .colab-df-convert:hover {\n",
              "      background-color: #E2EBFA;\n",
              "      box-shadow: 0px 1px 2px rgba(60, 64, 67, 0.3), 0px 1px 3px 1px rgba(60, 64, 67, 0.15);\n",
              "      fill: #174EA6;\n",
              "    }\n",
              "\n",
              "    [theme=dark] .colab-df-convert {\n",
              "      background-color: #3B4455;\n",
              "      fill: #D2E3FC;\n",
              "    }\n",
              "\n",
              "    [theme=dark] .colab-df-convert:hover {\n",
              "      background-color: #434B5C;\n",
              "      box-shadow: 0px 1px 3px 1px rgba(0, 0, 0, 0.15);\n",
              "      filter: drop-shadow(0px 1px 2px rgba(0, 0, 0, 0.3));\n",
              "      fill: #FFFFFF;\n",
              "    }\n",
              "  </style>\n",
              "\n",
              "      <script>\n",
              "        const buttonEl =\n",
              "          document.querySelector('#df-21509c7c-a94b-41a9-ba79-6f45fc680b5c button.colab-df-convert');\n",
              "        buttonEl.style.display =\n",
              "          google.colab.kernel.accessAllowed ? 'block' : 'none';\n",
              "\n",
              "        async function convertToInteractive(key) {\n",
              "          const element = document.querySelector('#df-21509c7c-a94b-41a9-ba79-6f45fc680b5c');\n",
              "          const dataTable =\n",
              "            await google.colab.kernel.invokeFunction('convertToInteractive',\n",
              "                                                     [key], {});\n",
              "          if (!dataTable) return;\n",
              "\n",
              "          const docLinkHtml = 'Like what you see? Visit the ' +\n",
              "            '<a target=\"_blank\" href=https://colab.research.google.com/notebooks/data_table.ipynb>data table notebook</a>'\n",
              "            + ' to learn more about interactive tables.';\n",
              "          element.innerHTML = '';\n",
              "          dataTable['output_type'] = 'display_data';\n",
              "          await google.colab.output.renderOutput(dataTable, element);\n",
              "          const docLink = document.createElement('div');\n",
              "          docLink.innerHTML = docLinkHtml;\n",
              "          element.appendChild(docLink);\n",
              "        }\n",
              "      </script>\n",
              "    </div>\n",
              "  </div>\n",
              "  "
            ],
            "text/plain": [
              "                  year     month       day         H         M         S  \\\n",
              "year               NaN       NaN       NaN       NaN       NaN       NaN   \n",
              "month              NaN  1.000000  0.022367 -0.061252 -0.000759  0.001303   \n",
              "day                NaN  0.022367  1.000000 -0.034758 -0.001883  0.001602   \n",
              "H                  NaN -0.061252 -0.034758  1.000000  0.000691 -0.002589   \n",
              "M                  NaN -0.000759 -0.001883  0.000691  1.000000  0.002816   \n",
              "S                  NaN  0.001303  0.001602 -0.002589  0.002816  1.000000   \n",
              "temp_              NaN -0.120276 -0.135801  0.514155 -0.002577 -0.002183   \n",
              "humidity_          NaN  0.064735 -0.049897  0.468638 -0.000278 -0.002286   \n",
              "pressure_          NaN -0.099088 -0.147578  0.510130  0.000636 -0.001446   \n",
              "light_intensity_   NaN -0.021158  0.091786  0.324879  0.003418 -0.003035   \n",
              "\n",
              "                     temp_  humidity_  pressure_  light_intensity_  \n",
              "year                   NaN        NaN        NaN               NaN  \n",
              "month            -0.120276   0.064735  -0.099088         -0.021158  \n",
              "day              -0.135801  -0.049897  -0.147578          0.091786  \n",
              "H                 0.514155   0.468638   0.510130          0.324879  \n",
              "M                -0.002577  -0.000278   0.000636          0.003418  \n",
              "S                -0.002183  -0.002286  -0.001446         -0.003035  \n",
              "temp_             1.000000   0.695662   0.895950          0.212490  \n",
              "humidity_         0.695662   1.000000   0.561180          0.419788  \n",
              "pressure_         0.895950   0.561180   1.000000          0.204789  \n",
              "light_intensity_  0.212490   0.419788   0.204789          1.000000  "
            ]
          },
          "execution_count": 142,
          "metadata": {},
          "output_type": "execute_result"
        }
      ],
      "source": [
        "\n",
        "df.corr()"
      ]
    },
    {
      "cell_type": "code",
      "execution_count": 20,
      "metadata": {},
      "outputs": [
        {
          "data": {
            "text/plain": [
              "array([[ 30.1387 ,  71.891  , 700.89102, 114.05645]])"
            ]
          },
          "execution_count": 20,
          "metadata": {},
          "output_type": "execute_result"
        }
      ],
      "source": [
        "a = np.array([2023,2,9,10,50,00])\n",
        "clf.predict(a.reshape(1,6))"
      ]
    }
  ],
  "metadata": {
    "colab": {
      "collapsed_sections": [],
      "provenance": []
    },
    "kernelspec": {
      "display_name": "Python 3.8.3 64-bit",
      "language": "python",
      "name": "python3"
    },
    "language_info": {
      "codemirror_mode": {
        "name": "ipython",
        "version": 3
      },
      "file_extension": ".py",
      "mimetype": "text/x-python",
      "name": "python",
      "nbconvert_exporter": "python",
      "pygments_lexer": "ipython3",
      "version": "3.8.3"
    },
    "vscode": {
      "interpreter": {
        "hash": "aee8b7b246df8f9039afb4144a1f6fd8d2ca17a180786b69acc140d282b71a49"
      }
    }
  },
  "nbformat": 4,
  "nbformat_minor": 0
}
